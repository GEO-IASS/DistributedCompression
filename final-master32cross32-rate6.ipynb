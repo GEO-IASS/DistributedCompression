{
 "cells": [
  {
   "cell_type": "code",
   "execution_count": null,
   "metadata": {
    "collapsed": false
   },
   "outputs": [],
   "source": [
    "%pylab"
   ]
  },
  {
   "cell_type": "code",
   "execution_count": null,
   "metadata": {
    "collapsed": true
   },
   "outputs": [],
   "source": [
    "from spectral import *\n",
    "import numpy as np\n",
    "import PIL\n",
    "import sympy as sp\n",
    "from mpmath import *\n",
    "import matplotlib\n",
    "import matplotlib.pyplot as plt"
   ]
  },
  {
   "cell_type": "code",
   "execution_count": null,
   "metadata": {
    "collapsed": false
   },
   "outputs": [],
   "source": [
    "img = aviris.open('hawaii_sc01.raw')"
   ]
  },
  {
   "cell_type": "code",
   "execution_count": null,
   "metadata": {
    "collapsed": false
   },
   "outputs": [],
   "source": [
    "img.__class__"
   ]
  },
  {
   "cell_type": "code",
   "execution_count": null,
   "metadata": {
    "collapsed": false
   },
   "outputs": [],
   "source": [
    "img"
   ]
  },
  {
   "cell_type": "code",
   "execution_count": null,
   "metadata": {
    "collapsed": false
   },
   "outputs": [],
   "source": [
    "arr = img.load()"
   ]
  },
  {
   "cell_type": "code",
   "execution_count": null,
   "metadata": {
    "collapsed": false
   },
   "outputs": [],
   "source": [
    "arr.info()"
   ]
  },
  {
   "cell_type": "code",
   "execution_count": null,
   "metadata": {
    "collapsed": false
   },
   "outputs": [],
   "source": [
    "#view = imshow(img, (5, 200, 100))"
   ]
  },
  {
   "cell_type": "code",
   "execution_count": null,
   "metadata": {
    "collapsed": false,
    "scrolled": true
   },
   "outputs": [],
   "source": [
    "#this code is to read 32 x 32 matrix from each band and store it in block\n",
    "block = []\n",
    "for i in range(224):\n",
    "    data = arr[:32,:32,i].astype(np.float32)*10000 \n",
    "    block.append(data)\n",
    "print block"
   ]
  },
  {
   "cell_type": "code",
   "execution_count": null,
   "metadata": {
    "collapsed": false
   },
   "outputs": [],
   "source": [
    "#calculating variance for each block\n",
    "varblock = []\n",
    "for hg in range(224):\n",
    "    yog = np.var(block[hg])\n",
    "    varblock.append(yog)\n",
    "print varblock\n",
    "print(\"\\n\\nThe mean variance is\")\n",
    "print np.mean(varblock)\n",
    "plt.figure(1)\n",
    "plt.plot(range(1,225),varblock, 'k')\n",
    "plt.xlabel('Band')\n",
    "plt.ylabel('Variance')\n",
    "plt.title('Variance')\n",
    "plt.show()"
   ]
  },
  {
   "cell_type": "code",
   "execution_count": null,
   "metadata": {
    "collapsed": false,
    "scrolled": true
   },
   "outputs": [],
   "source": [
    "#to calculate rhow\n",
    "rhow = []\n",
    "for jj in range(224):\n",
    "    sum1 = 0\n",
    "    for ij in range(jj,224):\n",
    "        sum1 = np.log2(varblock[ij]) + sum1  \n",
    "    yodo = sum1\n",
    "    rhowk = np.log2(varblock[jj])/yodo\n",
    "    rhow.append(rhowk)\n",
    "print rhow\n",
    "print(\"\\n\\nThe mean is\")\n",
    "print np.mean(rhow)\n",
    "plt.figure(2)\n",
    "plt.plot(range(1,225),rhow, 'k')\n",
    "plt.xlabel('Band')\n",
    "plt.ylabel('Weight')\n",
    "plt.title('Weight allocation')\n",
    "plt.show()"
   ]
  },
  {
   "cell_type": "code",
   "execution_count": null,
   "metadata": {
    "collapsed": false
   },
   "outputs": [],
   "source": [
    "#to calculate rate using rhow for first band\n",
    "wer = round(rhow[0]*4*224)+2\n",
    "wer"
   ]
  },
  {
   "cell_type": "code",
   "execution_count": null,
   "metadata": {
    "collapsed": false
   },
   "outputs": [],
   "source": [
    "#to calculate rate for all bands greater than 1\n",
    "rate = []\n",
    "rate.append(wer)\n",
    "for rew in range (2,225):\n",
    "    t = 0\n",
    "    for dsa in range(1,rew-1):\n",
    "        t = rate[dsa-1]-2 + t\n",
    "    ghum = round(rhow[rew-1]*(224*4 - t)) + 2\n",
    "    rate.append(ghum)\n",
    "print rate\n",
    "print(\"\\n\\nThe mean rate is\")\n",
    "print np.mean(rate)\n",
    "plt.figure(3)\n",
    "plt.plot(range(1,225),rate, 'k')\n",
    "plt.xlabel('Band')\n",
    "plt.ylabel('Rate')\n",
    "plt.title('Rate allocation')\n",
    "plt.axis([0, 250, 0, 10])\n",
    "plt.show()"
   ]
  },
  {
   "cell_type": "code",
   "execution_count": null,
   "metadata": {
    "collapsed": false
   },
   "outputs": [],
   "source": [
    "#to calculate mean of each block\n",
    "mean = []\n",
    "for mea in range(224):\n",
    "    yogi = np.mean(block[mea])\n",
    "    mean.append(yogi)\n",
    "print mean\n",
    "print(\"\\n\\nThe Average mean is\")\n",
    "print np.mean(mean)\n",
    "plt.figure(4)\n",
    "plt.plot(range(1,225),mean, 'k')\n",
    "plt.xlabel('Band')\n",
    "plt.ylabel('Mean')\n",
    "plt.title('Mean of each block in each band')\n",
    "plt.show()"
   ]
  },
  {
   "cell_type": "code",
   "execution_count": null,
   "metadata": {
    "collapsed": false
   },
   "outputs": [],
   "source": [
    "#to calculate alphak for 2nd band\n",
    "yo = 0\n",
    "yolo = 0\n",
    "alphak = []\n",
    "mat = block[0]\n",
    "mat1 = block[1]\n",
    "for ie in range(32):\n",
    "    for je in range(32):\n",
    "        yo = (mat[ie,je] - mean[0])*(mat1[ie,je] - mean[1]) + yo\n",
    "        yolo = (mat1[ie,je] - mean[1])*(mat1[ie,je] - mean[1]) + yolo\n",
    "alphak1 = yo/yolo\n",
    "alphak.append(alphak1)\n",
    "print alphak\n",
    "alphak2 = alphak1"
   ]
  },
  {
   "cell_type": "code",
   "execution_count": null,
   "metadata": {
    "collapsed": false
   },
   "outputs": [],
   "source": [
    "#to find  xbar for 2nd band\n",
    "xbar = np.array\n",
    "xbar = alphak[0]*(block[0]-mean[0])+mean[1]\n",
    "qtc = xbar\n",
    "xbar"
   ]
  },
  {
   "cell_type": "code",
   "execution_count": null,
   "metadata": {
    "collapsed": false
   },
   "outputs": [],
   "source": [
    "#error in second band\n",
    "error = block[1] - xbar\n",
    "uhgg = error\n",
    "error"
   ]
  },
  {
   "cell_type": "code",
   "execution_count": null,
   "metadata": {
    "collapsed": false
   },
   "outputs": [],
   "source": [
    "#find the maximum error in the array\n",
    "maxerror = np.amax(error)\n",
    "maxerror"
   ]
  },
  {
   "cell_type": "code",
   "execution_count": null,
   "metadata": {
    "collapsed": false
   },
   "outputs": [],
   "source": [
    "#to find deltak or the quantization step\n",
    "deltak = (maxerror/(2**(rate[1]-1))) + 1\n",
    "delatak12 = deltak\n",
    "deltak"
   ]
  },
  {
   "cell_type": "code",
   "execution_count": null,
   "metadata": {
    "collapsed": false
   },
   "outputs": [],
   "source": [
    "#to find y quantized array for band 2 \n",
    "yq1 = np.array\n",
    "yq1 = np.around(block[1]/deltak)\n",
    "print yq1\n",
    "yq = np.int16(yq1)\n",
    "print yq"
   ]
  },
  {
   "cell_type": "code",
   "execution_count": null,
   "metadata": {
    "collapsed": false
   },
   "outputs": [],
   "source": [
    "#to check condition eqn 12\n",
    "yqbar1 = np.array\n",
    "yqbar1 = np.around(xbar/deltak)\n",
    "print yqbar1"
   ]
  },
  {
   "cell_type": "code",
   "execution_count": null,
   "metadata": {
    "collapsed": false
   },
   "outputs": [],
   "source": [
    "ghf = yq1 - yqbar1\n",
    "gf = np.amax(ghf)\n",
    "print gf\n",
    "ggg = 2**(rate[1]-1)\n",
    "print ggg\n",
    "if(gf <= ggg):\n",
    "    print(\"Condition satisifed\")\n",
    "else:\n",
    "    print(\"condition not satisfied\")"
   ]
  },
  {
   "cell_type": "code",
   "execution_count": null,
   "metadata": {
    "collapsed": false
   },
   "outputs": [],
   "source": [
    "#convert into binary\n",
    "matb2 = []\n",
    "for ie1 in range(32):\n",
    "    for je1 in range(32):\n",
    "        matb3 = yq[ie1,je1]\n",
    "        gum = bin(matb3)\n",
    "        gum1 = gum.split('b')[1]\n",
    "        matb2.append(gum1) #[2:] remove '0b'\n",
    "matb = np.array(matb2).reshape(-1,32)\n",
    "matb"
   ]
  },
  {
   "cell_type": "code",
   "execution_count": null,
   "metadata": {
    "collapsed": false
   },
   "outputs": [],
   "source": [
    "#to extract only the bits considering the rate\n",
    "matb5 = []\n",
    "for ie1 in range(32):\n",
    "    for je1 in range(32):\n",
    "        matb6 = matb[ie1,je1]\n",
    "        gum1 = matb6[(len(matb6)-int(rate[1])):]\n",
    "        matb5.append(gum1)\n",
    "matb7 = np.array(matb5).reshape(-1,32)\n",
    "matb7"
   ]
  },
  {
   "cell_type": "code",
   "execution_count": null,
   "metadata": {
    "collapsed": false
   },
   "outputs": [],
   "source": [
    "#xonverting xbar from float to int\n",
    "xbar1 = np.around(xbar).astype(np.int32)\n",
    "xbar1"
   ]
  },
  {
   "cell_type": "code",
   "execution_count": null,
   "metadata": {
    "collapsed": false
   },
   "outputs": [],
   "source": [
    "#converting xbar1 to binary\n",
    "mat2 = []\n",
    "for ie1 in range(32):\n",
    "    for je1 in range(32):\n",
    "        mat3 = xbar1[ie1,je1]\n",
    "        gumq = bin(mat3)\n",
    "        mat2.append(gumq.split('b')[1]) #[2:] remove '0b'\n",
    "matbx = np.array(mat2).reshape(-1,32)\n",
    "matbx"
   ]
  },
  {
   "cell_type": "code",
   "execution_count": null,
   "metadata": {
    "collapsed": false
   },
   "outputs": [],
   "source": [
    "#Predicting xbar using the reconstrcuted value i.e divide by dektak\n",
    "alphakq2 = alphak[0]/deltak\n",
    "print deltak\n",
    "print alphakq2\n",
    "meanq2 = mean[1]/deltak\n",
    "print meanq2\n",
    "xbarq2 = np.array\n",
    "xbarq3 = alphakq2 *(block[0] - mean[0]) + meanq2\n",
    "xbarq2 = np.around(xbarq3).astype(np.int32)\n",
    "print xbarq2"
   ]
  },
  {
   "cell_type": "code",
   "execution_count": null,
   "metadata": {
    "collapsed": false
   },
   "outputs": [],
   "source": [
    "matq2 = []\n",
    "for ie1 in range(32):\n",
    "    for je1 in range(32):\n",
    "        matq3 = xbarq2[ie1,je1]\n",
    "        gumq2 = bin(matq3)\n",
    "        matq2.append(gumq2.split('b')[1]) #[2:] remove '0b'\n",
    "matq2fin = np.array(matq2).reshape(-1,32)\n",
    "matq2fin"
   ]
  },
  {
   "cell_type": "code",
   "execution_count": null,
   "metadata": {
    "collapsed": false
   },
   "outputs": [],
   "source": [
    "#to append the quantized value to the matbx(predicted value) to get reconstructed value\n",
    "final1 =  []\n",
    "for ie3 in range(32):\n",
    "    for je3 in range(32):\n",
    "        fin1 = matb7[ie3,je3]\n",
    "        aaa = len(fin1)\n",
    "        final2 = matq2fin[ie3,je3]\n",
    "        aaaa = len(final2)\n",
    "        final3 = final2[:(aaaa - aaa)] + fin1\n",
    "        final1.append(final3)\n",
    "final = np.array(final1).reshape(-1,32)\n",
    "final"
   ]
  },
  {
   "cell_type": "code",
   "execution_count": null,
   "metadata": {
    "collapsed": false
   },
   "outputs": [],
   "source": [
    "#to convert the reconstructed band from bin back to int\n",
    "ma1 = []\n",
    "for ie1 in range(32):\n",
    "    for je1 in range(32):\n",
    "        ma2 = final[ie1,je1]\n",
    "        gu = int(ma2,2)\n",
    "        ma1.append(gu)\n",
    "finalint1 = np.array(ma1).reshape(-1,32)\n",
    "finalint = finalint1 * deltak\n",
    "print(\"Reconstructed band \\n\\n\")\n",
    "print finalint\n",
    "print(\"\\n\\noriginal band\\n\\n\")\n",
    "print block[1]"
   ]
  },
  {
   "cell_type": "code",
   "execution_count": null,
   "metadata": {
    "collapsed": false
   },
   "outputs": [],
   "source": [
    "#reconstructed value - Original block\n",
    "xcv = finalint - block[1]\n",
    "print xcv\n",
    "xcvm = np.amax(xcv)\n",
    "print(\"\\n\\n Maximum error in second band = \")\n",
    "print xcvm"
   ]
  },
  {
   "cell_type": "code",
   "execution_count": null,
   "metadata": {
    "collapsed": false
   },
   "outputs": [],
   "source": [
    "#for all 224 bands excluding band 1 will be in reconstruct list\n",
    "#del(reconstruct)\n",
    "reconstruct = []\n",
    "reconstruct.append(0)\n",
    "reconstruct.append(finalint)"
   ]
  },
  {
   "cell_type": "code",
   "execution_count": null,
   "metadata": {
    "collapsed": false
   },
   "outputs": [],
   "source": [
    "#Giving dummy values to band 1\n",
    "del(alphak)\n",
    "del(xbar)\n",
    "del(error)\n",
    "del(deltak)\n",
    "#del(meanr)\n",
    "#del(ykij)\n",
    "#del(ykijb)\n",
    "#del(lsb)\n",
    "#del(xbdeco)\n",
    "#del(xbdecob)\n",
    "#del(xrecq)"
   ]
  },
  {
   "cell_type": "code",
   "execution_count": null,
   "metadata": {
    "collapsed": false
   },
   "outputs": [],
   "source": [
    "alphak = []\n",
    "alphak.append(0)\n",
    "alphak.append(alphak2)"
   ]
  },
  {
   "cell_type": "code",
   "execution_count": null,
   "metadata": {
    "collapsed": true
   },
   "outputs": [],
   "source": [
    "#reconstructed mean\n",
    "meanr = []\n",
    "meanr.append(0)"
   ]
  },
  {
   "cell_type": "code",
   "execution_count": null,
   "metadata": {
    "collapsed": false
   },
   "outputs": [],
   "source": [
    "#xbar\n",
    "xbar =[]\n",
    "xbar.append(0)\n",
    "xbar.append(qtc)"
   ]
  },
  {
   "cell_type": "code",
   "execution_count": null,
   "metadata": {
    "collapsed": false
   },
   "outputs": [],
   "source": [
    "#error\n",
    "error = []\n",
    "error.append(0)\n",
    "error.append(uhgg)"
   ]
  },
  {
   "cell_type": "code",
   "execution_count": null,
   "metadata": {
    "collapsed": false
   },
   "outputs": [],
   "source": [
    "#deltak\n",
    "deltak = []\n",
    "deltak.append(0)\n",
    "deltak.append(delatak12)"
   ]
  },
  {
   "cell_type": "code",
   "execution_count": null,
   "metadata": {
    "collapsed": false
   },
   "outputs": [],
   "source": [
    "#ykij\n",
    "ykij = []\n",
    "ykij.append(0)\n",
    "ykij.append(yq)"
   ]
  },
  {
   "cell_type": "code",
   "execution_count": null,
   "metadata": {
    "collapsed": false
   },
   "outputs": [],
   "source": [
    "#ykij binary value\n",
    "ykijb = []\n",
    "ykijb.append(0)\n",
    "ykijb.append(matb)"
   ]
  },
  {
   "cell_type": "code",
   "execution_count": null,
   "metadata": {
    "collapsed": false
   },
   "outputs": [],
   "source": [
    "#extracted lsb bits from ykij binary\n",
    "lsb = []\n",
    "lsb.append(0)\n",
    "lsb.append(matb7)"
   ]
  },
  {
   "cell_type": "code",
   "execution_count": null,
   "metadata": {
    "collapsed": false
   },
   "outputs": [],
   "source": [
    "#decoder side xbar\n",
    "xbdeco = []\n",
    "xbdeco.append(0)\n",
    "xbdeco.append(xbarq2)"
   ]
  },
  {
   "cell_type": "code",
   "execution_count": null,
   "metadata": {
    "collapsed": false
   },
   "outputs": [],
   "source": [
    "#decoder side xbar in binary\n",
    "xbdecob = []\n",
    "xbdecob.append(0)\n",
    "xbdecob.append(matq2fin)"
   ]
  },
  {
   "cell_type": "code",
   "execution_count": null,
   "metadata": {
    "collapsed": false
   },
   "outputs": [],
   "source": [
    "#reconstructed band at the decoder\n",
    "xrecq = []\n",
    "xrecq.append(0)\n",
    "xrecq.append(final)"
   ]
  },
  {
   "cell_type": "code",
   "execution_count": null,
   "metadata": {
    "collapsed": false
   },
   "outputs": [],
   "source": [
    "#for all the range(3,225) bands to construct reconstructed pixel values\n",
    "\n",
    "for i in range(3,225):\n",
    "    #General\n",
    "  \n",
    "    #alphak for all bands\n",
    "    mat = reconstruct[i-2]\n",
    "    meanr1 = np.mean(mat)\n",
    "    meanr.append(meanr1)\n",
    "    mat1 = block[i-1]\n",
    "    yo = 0\n",
    "    yolo = 0\n",
    "    for ie in range(32):\n",
    "        for je in range(32):\n",
    "            yo = (mat[ie,je] - meanr[i-2])*(mat1[ie,je] - mean[i-1]) + yo\n",
    "            yolo = (mat1[ie,je] - mean[i-1])*(mat1[ie,je] - mean[i-1]) + yolo\n",
    "    alphak1 = yo/yolo\n",
    "    alphak.append(alphak1)\n",
    "\n",
    "    #to calculate predicted value\n",
    "    xbar1 = alphak[i-1]*(reconstruct[i-2]-meanr[i-2])+mean[i-1]\n",
    "    xbar.append(xbar1)\n",
    "\n",
    "    #to calculate prediction error\n",
    "    error1 = block[i-1] - xbar[i-1]\n",
    "    error.append(error1)\n",
    " \n",
    "    #to calculate qunatization step, deltak\n",
    "    errormax = np.amax(error[i-1])\n",
    "    deltak1 = errormax/(2**(rate[i-1]-1))\n",
    "    deltak11 = deltak1 + 1\n",
    "    deltak.append(deltak11)\n",
    "\n",
    "    #to find ykij\n",
    "    yq11 = np.array\n",
    "    yq11 = np.around(block[1]/deltak[i-1])\n",
    "    yqw = np.int16(yq11)\n",
    "    ykij.append(yqw)\n",
    "\n",
    "    \n",
    "    #RECONSTRUCTION\n",
    "    #Changing ykij binary\n",
    "    matb22 = []\n",
    "    ykijj = ykij[i-1]\n",
    "    for ie1 in range(32):\n",
    "        for je1 in range(32):\n",
    "            matb33 = ykijj[ie1,je1]\n",
    "            gumm = bin(matb33)\n",
    "            gum12 = gumm.split('b')[1]\n",
    "            matb22.append(gum12) #[2:] remove '0b'\n",
    "    matbz = np.array(matb22).reshape(-1,32)\n",
    "    ykijb.append(matbz)\n",
    "\n",
    "    #Extracting LSB bits according to rate from ykij binary\n",
    "    matb55 = []\n",
    "    asd = ykijb[i-1]\n",
    "    for ie1 in range(32):\n",
    "        for je1 in range(32):\n",
    "            matb66 = asd[ie1,je1]\n",
    "            gu1 = matb6[(len(matb66)-int(rate[i-1])):]\n",
    "            matb55.append(gu1)\n",
    "    matb777 = np.array(matb55).reshape(-1,32)\n",
    "    lsb.append(matb777)\n",
    "\n",
    "    #Dividing by deltak(quantization) and predicting the xbar values\n",
    "    alphakq1 = alphak[i-1]/deltak[i-1]\n",
    "    meanq1 = mean[i-1]/deltak[i-1]\n",
    "    xbarq4 = np.array\n",
    "    xbarq3 = alphakq1*(reconstruct[i-2] - meanr[i-2]) + meanq1\n",
    "    xbarq4 = np.around(xbarq3).astype(np.int32)\n",
    "    xbdeco.append(xbarq4)\n",
    "\n",
    "    #convert xbdeco current band into binary\n",
    "    matb33 = []\n",
    "    xbd = xbdeco[i-1]\n",
    "    for ie1 in range(32):\n",
    "        for je1 in range(32):\n",
    "            mathh = xbd[ie1,je1]\n",
    "            gummm = bin(mathh)\n",
    "            gu12 = gummm.split('b')[1]\n",
    "            if(gu12[0]=='b'):\n",
    "                gu12 = gummm[3:0]   \n",
    "                print(i)\n",
    "                print(\"this is at first\")\n",
    "            matb33.append(gu12)\n",
    "    mabz = np.array(matb33).reshape(-1,32)\n",
    "    xbdecob.append(mabz)\n",
    "\n",
    "    #Reconstructing the band by adding the LSB to the decoded xbar values to reconstruct the image\n",
    "    fin1 =  []\n",
    "    lsb1 = lsb[i-1]\n",
    "    xbdecob1 = xbdecob[i-1]\n",
    "    for ie3 in range(32):\n",
    "        for je3 in range(32):\n",
    "            final11 = lsb1[ie3,je3]\n",
    "            azx = len(final11)\n",
    "            final2 = xbdecob1[ie3,je3]\n",
    "            azx1 = len(final2)\n",
    "            final3 = final2[:(azx1-azx)] + final11\n",
    "            fin1.append(final3)\n",
    "    finale = np.array(fin1).reshape(-1,32)\n",
    "    xrecq.append(finale)\n",
    "\n",
    "    #To convert the reconstructed band xrecq from bin back to int\n",
    "    maz1 = []\n",
    "    fnal = xrecq[i-1]\n",
    "    for ie1 in range(32):\n",
    "        for je1 in range(32):\n",
    "            maa2 = fnal[ie1,je1]\n",
    "            if(maa2[0]=='b'):\n",
    "                maa2=maa2[1:]\n",
    "                print(i)\n",
    "                print(\"this is the last\")\n",
    "            guu = int(maa2,2)\n",
    "            maz1.append(guu)\n",
    "    final1 = np.array(maz1).reshape(-1,32)\n",
    "    gfinal = final1 * deltak[i-1]\n",
    "    reconstruct.append(gfinal) \n",
    "    del(matb22)\n",
    "    del(matb55)\n",
    "    del(matb33)\n",
    "    del(fin1)\n",
    "    del(maz1)\n",
    "    print(i)\n",
    "meanr.append(np.mean(reconstruct[223]))\n",
    "print(\"Process Complete\")\n",
    "    \n",
    "    "
   ]
  },
  {
   "cell_type": "code",
   "execution_count": null,
   "metadata": {
    "collapsed": false
   },
   "outputs": [],
   "source": [
    "error[2]"
   ]
  },
  {
   "cell_type": "code",
   "execution_count": null,
   "metadata": {
    "collapsed": false
   },
   "outputs": [],
   "source": [
    "#plot of original minus predicted. Eqn 14\n",
    "y = []\n",
    "for i in range(224):\n",
    "    y1 = np.amax(error[i])\n",
    "    y.append(y1)\n",
    "print y\n",
    "print(\"\\n\\nThe mean error is\")\n",
    "print np.mean(y)\n",
    "plt.figure(5)\n",
    "plt.plot(range(1,225),y, 'k')\n",
    "plt.xlabel('Band')\n",
    "plt.ylabel('error')\n",
    "plt.title('Error in original minus predicted value')\n",
    "plt.show()"
   ]
  },
  {
   "cell_type": "code",
   "execution_count": null,
   "metadata": {
    "collapsed": false
   },
   "outputs": [],
   "source": [
    "#alphak\n",
    "print alphak\n",
    "print(\"\\n\\nThe mean alphak is\")\n",
    "print np.mean(alphak)\n",
    "plt.figure(6)\n",
    "plt.plot(range(1,225),alphak, 'k')\n",
    "plt.xlabel('Band')\n",
    "plt.ylabel('alphak')\n",
    "plt.title('alphak vs band')\n",
    "plt.show()"
   ]
  },
  {
   "cell_type": "code",
   "execution_count": null,
   "metadata": {
    "collapsed": false
   },
   "outputs": [],
   "source": [
    "meanr[223]"
   ]
  },
  {
   "cell_type": "code",
   "execution_count": null,
   "metadata": {
    "collapsed": false
   },
   "outputs": [],
   "source": [
    "#reconstructed mean\n",
    "print meanr\n",
    "print(\"\\n\\nThe average mean of reconstructed image is\")\n",
    "print np.mean(meanr)\n",
    "plt.figure(7)\n",
    "plt.plot(range(1,225),meanr, 'k')\n",
    "plt.xlabel('Band')\n",
    "plt.ylabel('Mean')\n",
    "plt.title('Mean of reconstructed bands')\n",
    "plt.show()"
   ]
  },
  {
   "cell_type": "code",
   "execution_count": null,
   "metadata": {
    "collapsed": false
   },
   "outputs": [],
   "source": [
    "print deltak\n",
    "print(\"\\n\\nThe average deltak is\")\n",
    "print np.mean(deltak)\n",
    "plt.figure(8)\n",
    "plt.plot(range(1,225),deltak, 'k')\n",
    "plt.xlabel('Band')\n",
    "plt.ylabel('deltak')\n",
    "plt.title('Deltak vs bands')\n",
    "plt.show()"
   ]
  },
  {
   "cell_type": "code",
   "execution_count": null,
   "metadata": {
    "collapsed": false
   },
   "outputs": [],
   "source": [
    "errorfin = []\n",
    "for i in range(1,224):\n",
    "    y2 = block[i] - reconstruct[i]\n",
    "    errorfin.append(np.amax(y2))\n",
    "print errorfin\n",
    "print(\"\\n\\nThe average error of original minus reconstructed is\")\n",
    "print np.mean(errorfin)\n",
    "plt.figure(9)\n",
    "plt.plot(range(1,224),errorfin, 'k')\n",
    "plt.xlabel('Band')\n",
    "plt.ylabel('error')\n",
    "plt.title('Difference between Original and Reconstructed')\n",
    "plt.show()"
   ]
  },
  {
   "cell_type": "code",
   "execution_count": null,
   "metadata": {
    "collapsed": false
   },
   "outputs": [],
   "source": [
    "#del(psnr)\n",
    "#del(mse)"
   ]
  },
  {
   "cell_type": "code",
   "execution_count": null,
   "metadata": {
    "collapsed": false
   },
   "outputs": [],
   "source": [
    "psnr = []\n",
    "mse = []\n",
    "for ggg in range(1,224):\n",
    "    totrb = 0\n",
    "    rb =block[ggg] - reconstruct[ggg]\n",
    "    for i in range(32):\n",
    "        for j in range(32):\n",
    "            rbp = rb[i,j]\n",
    "            rbp2 = rbp**2\n",
    "            totrb = rbp2 + totrb\n",
    "    fintot = totrb/1024\n",
    "    mse.append(fintot)\n",
    "    psnr1 =  20*np.log10(np.amax(block[ggg])/(fintot)**(1/2.0))\n",
    "    psnr.append(psnr1)\n",
    "print(\"Process Complete\")"
   ]
  },
  {
   "cell_type": "code",
   "execution_count": null,
   "metadata": {
    "collapsed": false
   },
   "outputs": [],
   "source": [
    "print psnr\n",
    "print(\"\\n\\nThe mean of PSNR is\")\n",
    "print np.mean(psnr)\n",
    "print(\"\\n\\nThe maximum PSNR is\")\n",
    "print np.max(psnr)\n",
    "plt.figure(10)\n",
    "plt.plot(range(1,224),psnr, 'k')\n",
    "plt.xlabel('Band')\n",
    "plt.ylabel('PSNR')\n",
    "plt.title('PSNR vs band')\n",
    "plt.show()"
   ]
  },
  {
   "cell_type": "code",
   "execution_count": null,
   "metadata": {
    "collapsed": false
   },
   "outputs": [],
   "source": []
  },
  {
   "cell_type": "code",
   "execution_count": null,
   "metadata": {
    "collapsed": true
   },
   "outputs": [],
   "source": []
  }
 ],
 "metadata": {
  "kernelspec": {
   "display_name": "Python 2",
   "language": "python",
   "name": "python2"
  },
  "language_info": {
   "codemirror_mode": {
    "name": "ipython",
    "version": 2
   },
   "file_extension": ".py",
   "mimetype": "text/x-python",
   "name": "python",
   "nbconvert_exporter": "python",
   "pygments_lexer": "ipython2",
   "version": "2.7.10"
  }
 },
 "nbformat": 4,
 "nbformat_minor": 0
}
